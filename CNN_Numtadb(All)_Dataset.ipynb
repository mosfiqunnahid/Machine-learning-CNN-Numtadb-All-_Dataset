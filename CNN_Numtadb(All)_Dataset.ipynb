{
  "nbformat": 4,
  "nbformat_minor": 0,
  "metadata": {
    "colab": {
      "name": "CNN-Numtadb(All)_Dataset.ipynb",
      "provenance": [],
      "collapsed_sections": []
    },
    "kernelspec": {
      "name": "python3",
      "display_name": "Python 3"
    },
    "accelerator": "GPU"
  },
  "cells": [
    {
      "cell_type": "code",
      "metadata": {
        "id": "XLX2MFr5_re7",
        "colab_type": "code",
        "colab": {}
      },
      "source": [
        "import cv2\n",
        "import keras\n",
        "import numpy as np\n",
        "import pandas as pd\n",
        "from keras import Sequential\n",
        "from keras.layers import Dense\n",
        "import matplotlib.pyplot as plt\n",
        "from keras.models import Sequential\n",
        "from keras.utils import to_categorical\n",
        "from sklearn.model_selection import train_test_split\n",
        "from keras.layers import Conv2D, MaxPooling2D, Flatten, Dropout, Dense"
      ],
      "execution_count": null,
      "outputs": []
    },
    {
      "cell_type": "code",
      "metadata": {
        "id": "_C8qeoAX_x5V",
        "colab_type": "code",
        "colab": {}
      },
      "source": [
        "x = np.load('/content/drive/My Drive/LICT training/Mosfiqun Nahid Hassan/Preprocessing_Data( Jupyter)/Numta_x.npy')/255.0\n",
        "y = np.load('/content/drive/My Drive/LICT training/Mosfiqun Nahid Hassan/Preprocessing_Data( Jupyter)/Numta_y.npy')"
      ],
      "execution_count": null,
      "outputs": []
    },
    {
      "cell_type": "code",
      "metadata": {
        "id": "4cgeybxm_yHD",
        "colab_type": "code",
        "colab": {}
      },
      "source": [
        "x = x.reshape(-1,28,28,1)\n",
        "y = to_categorical(y)"
      ],
      "execution_count": null,
      "outputs": []
    },
    {
      "cell_type": "code",
      "metadata": {
        "id": "0mDanggx_yEc",
        "colab_type": "code",
        "colab": {
          "base_uri": "https://localhost:8080/",
          "height": 34
        },
        "outputId": "1acec556-1b66-496c-e47a-75ed3274db10"
      },
      "source": [
        "x.shape"
      ],
      "execution_count": null,
      "outputs": [
        {
          "output_type": "execute_result",
          "data": {
            "text/plain": [
              "(72045, 28, 28, 1)"
            ]
          },
          "metadata": {
            "tags": []
          },
          "execution_count": 22
        }
      ]
    },
    {
      "cell_type": "code",
      "metadata": {
        "id": "kGPGpLlj_yCU",
        "colab_type": "code",
        "colab": {
          "base_uri": "https://localhost:8080/",
          "height": 34
        },
        "outputId": "df0c07d1-43af-4a2b-a19e-fafd54763c53"
      },
      "source": [
        "y.shape"
      ],
      "execution_count": null,
      "outputs": [
        {
          "output_type": "execute_result",
          "data": {
            "text/plain": [
              "(72045, 10)"
            ]
          },
          "metadata": {
            "tags": []
          },
          "execution_count": 23
        }
      ]
    },
    {
      "cell_type": "code",
      "metadata": {
        "id": "rxUKPYrP_yAE",
        "colab_type": "code",
        "colab": {}
      },
      "source": [
        "model = Sequential()\n",
        "model.add(Conv2D(32, (5, 5), activation='relu', input_shape=(28, 28, 1)))\n",
        "model.add(Dropout(0.2))\n",
        "model.add(MaxPooling2D((2, 2)))\n",
        "model.add(Dense(64, activation='relu'))\n",
        "model.add(Dropout(0.2))\n",
        "model.add(MaxPooling2D((2, 2)))\n",
        "model.add(Flatten())\n",
        "model.add(Dense(128, activation='relu'))\n",
        "model.add(Dropout(0.2))\n",
        "model.add(Dense(10, activation='softmax'))\n",
        "model.compile(optimizer='adam', loss='categorical_crossentropy', metrics=['accuracy'])"
      ],
      "execution_count": null,
      "outputs": []
    },
    {
      "cell_type": "code",
      "metadata": {
        "id": "ksTi6PR2_x8s",
        "colab_type": "code",
        "colab": {
          "base_uri": "https://localhost:8080/",
          "height": 493
        },
        "outputId": "b333b064-d942-45b5-bfcb-ee5a2acbe8ff"
      },
      "source": [
        "model.summary()"
      ],
      "execution_count": null,
      "outputs": [
        {
          "output_type": "stream",
          "text": [
            "Model: \"sequential_3\"\n",
            "_________________________________________________________________\n",
            "Layer (type)                 Output Shape              Param #   \n",
            "=================================================================\n",
            "conv2d_3 (Conv2D)            (None, 24, 24, 32)        832       \n",
            "_________________________________________________________________\n",
            "dropout_7 (Dropout)          (None, 24, 24, 32)        0         \n",
            "_________________________________________________________________\n",
            "max_pooling2d_5 (MaxPooling2 (None, 12, 12, 32)        0         \n",
            "_________________________________________________________________\n",
            "dense_7 (Dense)              (None, 12, 12, 64)        2112      \n",
            "_________________________________________________________________\n",
            "dropout_8 (Dropout)          (None, 12, 12, 64)        0         \n",
            "_________________________________________________________________\n",
            "max_pooling2d_6 (MaxPooling2 (None, 6, 6, 64)          0         \n",
            "_________________________________________________________________\n",
            "flatten_3 (Flatten)          (None, 2304)              0         \n",
            "_________________________________________________________________\n",
            "dense_8 (Dense)              (None, 128)               295040    \n",
            "_________________________________________________________________\n",
            "dropout_9 (Dropout)          (None, 128)               0         \n",
            "_________________________________________________________________\n",
            "dense_9 (Dense)              (None, 10)                1290      \n",
            "=================================================================\n",
            "Total params: 299,274\n",
            "Trainable params: 299,274\n",
            "Non-trainable params: 0\n",
            "_________________________________________________________________\n"
          ],
          "name": "stdout"
        }
      ]
    },
    {
      "cell_type": "code",
      "metadata": {
        "id": "E9SSzPaE_x38",
        "colab_type": "code",
        "colab": {
          "base_uri": "https://localhost:8080/",
          "height": 1000
        },
        "outputId": "e727645a-ca13-4b33-9f76-91c30a927695"
      },
      "source": [
        "history = model.fit(x, y, validation_split=0.2, epochs=30, batch_size=150)"
      ],
      "execution_count": null,
      "outputs": [
        {
          "output_type": "stream",
          "text": [
            "Train on 57636 samples, validate on 14409 samples\n",
            "Epoch 1/30\n",
            "57636/57636 [==============================] - 12s 204us/step - loss: 1.5110 - accuracy: 0.4787 - val_loss: 0.4017 - val_accuracy: 0.8922\n",
            "Epoch 2/30\n",
            "57636/57636 [==============================] - 5s 93us/step - loss: 1.0270 - accuracy: 0.6492 - val_loss: 0.3569 - val_accuracy: 0.8974\n",
            "Epoch 3/30\n",
            "57636/57636 [==============================] - 5s 93us/step - loss: 0.8962 - accuracy: 0.6929 - val_loss: 0.2905 - val_accuracy: 0.9112\n",
            "Epoch 4/30\n",
            "57636/57636 [==============================] - 5s 93us/step - loss: 0.8230 - accuracy: 0.7175 - val_loss: 0.2652 - val_accuracy: 0.9187\n",
            "Epoch 5/30\n",
            "57636/57636 [==============================] - 5s 94us/step - loss: 0.7788 - accuracy: 0.7321 - val_loss: 0.2599 - val_accuracy: 0.9198\n",
            "Epoch 6/30\n",
            "57636/57636 [==============================] - 6s 100us/step - loss: 0.7427 - accuracy: 0.7448 - val_loss: 0.2606 - val_accuracy: 0.9184\n",
            "Epoch 7/30\n",
            "57636/57636 [==============================] - 7s 118us/step - loss: 0.7088 - accuracy: 0.7566 - val_loss: 0.2606 - val_accuracy: 0.9199\n",
            "Epoch 8/30\n",
            "57636/57636 [==============================] - 6s 105us/step - loss: 0.6872 - accuracy: 0.7640 - val_loss: 0.2430 - val_accuracy: 0.9271\n",
            "Epoch 9/30\n",
            "57636/57636 [==============================] - 5s 92us/step - loss: 0.6683 - accuracy: 0.7697 - val_loss: 0.2497 - val_accuracy: 0.9228\n",
            "Epoch 10/30\n",
            "57636/57636 [==============================] - 5s 92us/step - loss: 0.6464 - accuracy: 0.7769 - val_loss: 0.2515 - val_accuracy: 0.9226\n",
            "Epoch 11/30\n",
            "57636/57636 [==============================] - 5s 93us/step - loss: 0.6310 - accuracy: 0.7831 - val_loss: 0.2740 - val_accuracy: 0.9157\n",
            "Epoch 12/30\n",
            "57636/57636 [==============================] - 5s 92us/step - loss: 0.6140 - accuracy: 0.7878 - val_loss: 0.2439 - val_accuracy: 0.9263\n",
            "Epoch 13/30\n",
            "57636/57636 [==============================] - 5s 92us/step - loss: 0.6031 - accuracy: 0.7921 - val_loss: 0.2542 - val_accuracy: 0.9235\n",
            "Epoch 14/30\n",
            "57636/57636 [==============================] - 5s 92us/step - loss: 0.5917 - accuracy: 0.7958 - val_loss: 0.2658 - val_accuracy: 0.9194\n",
            "Epoch 15/30\n",
            "57636/57636 [==============================] - 5s 92us/step - loss: 0.5781 - accuracy: 0.8001 - val_loss: 0.2720 - val_accuracy: 0.9196\n",
            "Epoch 16/30\n",
            "57636/57636 [==============================] - 5s 92us/step - loss: 0.5712 - accuracy: 0.8035 - val_loss: 0.2628 - val_accuracy: 0.9229\n",
            "Epoch 17/30\n",
            "57636/57636 [==============================] - 5s 93us/step - loss: 0.5600 - accuracy: 0.8068 - val_loss: 0.2648 - val_accuracy: 0.9221\n",
            "Epoch 18/30\n",
            "57636/57636 [==============================] - 5s 92us/step - loss: 0.5528 - accuracy: 0.8081 - val_loss: 0.2594 - val_accuracy: 0.9221\n",
            "Epoch 19/30\n",
            "57636/57636 [==============================] - 5s 92us/step - loss: 0.5402 - accuracy: 0.8128 - val_loss: 0.2715 - val_accuracy: 0.9223\n",
            "Epoch 20/30\n",
            "57636/57636 [==============================] - 5s 92us/step - loss: 0.5331 - accuracy: 0.8153 - val_loss: 0.2857 - val_accuracy: 0.9173\n",
            "Epoch 21/30\n",
            "57636/57636 [==============================] - 5s 92us/step - loss: 0.5285 - accuracy: 0.8152 - val_loss: 0.2808 - val_accuracy: 0.9207\n",
            "Epoch 22/30\n",
            "57636/57636 [==============================] - 5s 93us/step - loss: 0.5183 - accuracy: 0.8193 - val_loss: 0.2719 - val_accuracy: 0.9246\n",
            "Epoch 23/30\n",
            "57636/57636 [==============================] - 5s 92us/step - loss: 0.5093 - accuracy: 0.8228 - val_loss: 0.2862 - val_accuracy: 0.9210\n",
            "Epoch 24/30\n",
            "57636/57636 [==============================] - 5s 92us/step - loss: 0.5092 - accuracy: 0.8227 - val_loss: 0.3005 - val_accuracy: 0.9171\n",
            "Epoch 25/30\n",
            "57636/57636 [==============================] - 5s 93us/step - loss: 0.5010 - accuracy: 0.8251 - val_loss: 0.3063 - val_accuracy: 0.9167\n",
            "Epoch 26/30\n",
            "57636/57636 [==============================] - 6s 98us/step - loss: 0.4912 - accuracy: 0.8288 - val_loss: 0.3167 - val_accuracy: 0.9235\n",
            "Epoch 27/30\n",
            "57636/57636 [==============================] - 6s 102us/step - loss: 0.4906 - accuracy: 0.8283 - val_loss: 0.3482 - val_accuracy: 0.9147\n",
            "Epoch 28/30\n",
            "57636/57636 [==============================] - 6s 97us/step - loss: 0.4859 - accuracy: 0.8306 - val_loss: 0.2854 - val_accuracy: 0.9219\n",
            "Epoch 29/30\n",
            "57636/57636 [==============================] - 6s 97us/step - loss: 0.4804 - accuracy: 0.8321 - val_loss: 0.3040 - val_accuracy: 0.9225\n",
            "Epoch 30/30\n",
            "57636/57636 [==============================] - 6s 96us/step - loss: 0.4741 - accuracy: 0.8323 - val_loss: 0.3033 - val_accuracy: 0.9216\n"
          ],
          "name": "stdout"
        }
      ]
    },
    {
      "cell_type": "code",
      "metadata": {
        "id": "xnagmvaT_xzk",
        "colab_type": "code",
        "colab": {
          "base_uri": "https://localhost:8080/",
          "height": 573
        },
        "outputId": "d016c700-24c2-4335-c7ab-8e13a0caa1d8"
      },
      "source": [
        "plt.plot(history.history['loss'])\n",
        "plt.plot(history.history['val_loss'])\n",
        "plt.title('Model loss')\n",
        "plt.ylabel('Loss')\n",
        "plt.xlabel('Epoch')\n",
        "plt.legend(['Train', 'Test'], loc='upper left')\n",
        "plt.show()\n",
        "\n",
        "plt.plot(history.history['accuracy'])\n",
        "plt.plot(history.history['val_accuracy'])\n",
        "plt.title('Model acc')\n",
        "plt.ylabel('acc')\n",
        "plt.xlabel('Epoch')\n",
        "plt.legend(['Train', 'Test'], loc='upper left')\n",
        "plt.show()"
      ],
      "execution_count": null,
      "outputs": [
        {
          "output_type": "display_data",
          "data": {
            "image/png": "[encoded data removed]",
            "text/plain": [
              "<Figure size 432x288 with 1 Axes>"
            ]
          },
          "metadata": {
            "tags": [],
            "needs_background": "light"
          }
        },
        {
          "output_type": "display_data",
          "data": {
            "image/png": "[encoded data removed]",
            "text/plain": [
              "<Figure size 432x288 with 1 Axes>"
            ]
          },
          "metadata": {
            "tags": [],
            "needs_background": "light"
          }
        }
      ]
    },
    {
      "cell_type": "code",
      "metadata": {
        "id": "XqWq6dvg__xO",
        "colab_type": "code",
        "colab": {}
      },
      "source": [
        "model.save_weights('val_accuracy_92.h5 ')"
      ],
      "execution_count": null,
      "outputs": []
    },
    {
      "cell_type": "code",
      "metadata": {
        "id": "nkc85dr4__t8",
        "colab_type": "code",
        "colab": {}
      },
      "source": [
        "all_img = []\n",
        "for i in range(0,10):\n",
        "  img1 = cv2.imread(str(i)+'.jpg',0)\n",
        "  (thresh, im_bw) = cv2.threshold(img1, 128, 255, cv2.THRESH_BINARY | cv2.THRESH_OTSU)\n",
        "  inv = cv2.bitwise_not(im_bw)\n",
        "  all_img.append(cv2.resize(inv, (28,28)))"
      ],
      "execution_count": null,
      "outputs": []
    },
    {
      "cell_type": "code",
      "metadata": {
        "id": "fkY5bRSy__pQ",
        "colab_type": "code",
        "colab": {}
      },
      "source": [
        "all_img = np.array(all_img)"
      ],
      "execution_count": null,
      "outputs": []
    },
    {
      "cell_type": "code",
      "metadata": {
        "id": "5O41pA4tAIm_",
        "colab_type": "code",
        "colab": {
          "base_uri": "https://localhost:8080/",
          "height": 240
        },
        "outputId": "650430cf-f063-48f6-b615-7ee157b08b6f"
      },
      "source": [
        "for i in range(1,11):\n",
        "  plt.subplot(2,5,i)\n",
        "  plt.imshow(all_img[i-1])\n",
        "  plt.title(np.argmax(model.predict(np.reshape(all_img[i-1],(-1,28,28,1)))))"
      ],
      "execution_count": null,
      "outputs": [
        {
          "output_type": "display_data",
          "data": {
            "image/png": "[encoded data removed]",
            "text/plain": [
              "<Figure size 432x288 with 10 Axes>"
            ]
          },
          "metadata": {
            "tags": [],
            "needs_background": "light"
          }
        }
      ]
    }
  ]
}